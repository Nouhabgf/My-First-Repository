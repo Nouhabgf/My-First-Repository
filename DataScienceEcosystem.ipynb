{
 "cells": [
  {
   "cell_type": "markdown",
   "id": "f3cf60ec-4b0b-4bb4-9ea7-c95370e277d2",
   "metadata": {},
   "source": [
    "# Data Science Tools and Ecosystem"
   ]
  },
  {
   "cell_type": "markdown",
   "id": "ab35c282-dfce-4f31-86a9-cfa2ef356261",
   "metadata": {},
   "source": [
    "In this notebook, Data Science Tools and Ecosystem are summarized."
   ]
  },
  {
   "cell_type": "markdown",
   "id": "8a2315d9-bf79-482a-a44b-3109c39de622",
   "metadata": {},
   "source": [
    "**Objectives:**\n",
    "- List popular languages for Data Science\n",
    "- List some of the commonly used libraries for Data Science\n",
    "- List some Data Science tools"
   ]
  },
  {
   "cell_type": "markdown",
   "id": "2e300fa5-0bb4-4cb5-ba2e-3d4959cd9200",
   "metadata": {},
   "source": [
    "Some of the popular languages that Data Scientists use are:"
   ]
  },
  {
   "cell_type": "markdown",
   "id": "dc5a66ae-92c9-41dc-ab46-23b6f4398181",
   "metadata": {},
   "source": [
    "1. Python"
   ]
  },
  {
   "cell_type": "markdown",
   "id": "269b86ad-ef07-4dfc-a5a4-a1a87f6cdda5",
   "metadata": {},
   "source": [
    "2. R"
   ]
  },
  {
   "cell_type": "markdown",
   "id": "506e00dd-fd9b-46fc-9496-f71d9b58e047",
   "metadata": {},
   "source": [
    "3. Scala"
   ]
  },
  {
   "cell_type": "markdown",
   "id": "cda11414-3174-4c38-a4f3-501b353de42a",
   "metadata": {},
   "source": [
    "Some of the commonly used libraries used by Data Scientists include:"
   ]
  },
  {
   "cell_type": "markdown",
   "id": "31b45c77-0d91-4f34-8716-c3c527ce352a",
   "metadata": {},
   "source": [
    "1. Pandas"
   ]
  },
  {
   "cell_type": "markdown",
   "id": "1c211355-8114-46fe-b54a-3891b3d82ef5",
   "metadata": {},
   "source": [
    "2. Numpy"
   ]
  },
  {
   "cell_type": "markdown",
   "id": "293d6769-5199-467a-92d5-dd32b6a1fc3e",
   "metadata": {},
   "source": [
    "3. Matplotlib"
   ]
  },
  {
   "cell_type": "markdown",
   "id": "83a51967-5c7d-4cf4-bc9c-debdf6fde367",
   "metadata": {},
   "source": [
    "| Data Science Tools |\n",
    "|:--------------------|\n",
    "| Jupyter Notebooks |\n",
    "| RStudio |\n",
    "| Visual Studio Code |"
   ]
  },
  {
   "cell_type": "markdown",
   "id": "b1e29234-8b0a-4ca3-bef0-7c8a49dfebed",
   "metadata": {},
   "source": [
    "### Below are a few examples of evaluating arithmetic expressions in Python"
   ]
  },
  {
   "cell_type": "code",
   "execution_count": 3,
   "id": "f6a76a71-142c-4e12-97b2-928cdb5739bf",
   "metadata": {
    "tags": []
   },
   "outputs": [
    {
     "data": {
      "text/plain": [
       "17"
      ]
     },
     "execution_count": 3,
     "metadata": {},
     "output_type": "execute_result"
    }
   ],
   "source": [
    "# This a simple arithmetic expression to mutiply then add integers\n",
    "(3*4)+5"
   ]
  },
  {
   "cell_type": "code",
   "execution_count": 4,
   "id": "1f557a73-9131-4bb0-bad3-9bcab7a24e84",
   "metadata": {
    "tags": []
   },
   "outputs": [
    {
     "data": {
      "text/plain": [
       "3.3333333333333335"
      ]
     },
     "execution_count": 4,
     "metadata": {},
     "output_type": "execute_result"
    }
   ],
   "source": [
    "# This will convert 200 minutes to hours by diving by 60\n",
    "200/60"
   ]
  },
  {
   "cell_type": "markdown",
   "id": "5c6fb85d-9c34-4b8b-9a29-6932240051e7",
   "metadata": {},
   "source": [
    "## Author\n",
    "Nouhaila Bougfou"
   ]
  },
  {
   "cell_type": "code",
   "execution_count": null,
   "id": "718f8c45-c554-4366-95be-0aea760b8c00",
   "metadata": {},
   "outputs": [],
   "source": []
  }
 ],
 "metadata": {
  "kernelspec": {
   "display_name": "Python",
   "language": "python",
   "name": "conda-env-python-py"
  },
  "language_info": {
   "codemirror_mode": {
    "name": "ipython",
    "version": 3
   },
   "file_extension": ".py",
   "mimetype": "text/x-python",
   "name": "python",
   "nbconvert_exporter": "python",
   "pygments_lexer": "ipython3",
   "version": "3.7.12"
  }
 },
 "nbformat": 4,
 "nbformat_minor": 5
}
